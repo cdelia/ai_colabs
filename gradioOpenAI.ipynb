{
  "nbformat": 4,
  "nbformat_minor": 0,
  "metadata": {
    "colab": {
      "provenance": [],
      "authorship_tag": "ABX9TyMJ0fkcsBjTlGHGWL3hMrTh",
      "include_colab_link": true
    },
    "kernelspec": {
      "name": "python3",
      "display_name": "Python 3"
    },
    "language_info": {
      "name": "python"
    }
  },
  "cells": [
    {
      "cell_type": "markdown",
      "metadata": {
        "id": "view-in-github",
        "colab_type": "text"
      },
      "source": [
        "<a href=\"https://colab.research.google.com/github/cdelia/ai_colabs/blob/main/gradioOpenAI.ipynb\" target=\"_parent\"><img src=\"https://colab.research.google.com/assets/colab-badge.svg\" alt=\"Open In Colab\"/></a>"
      ]
    },
    {
      "cell_type": "markdown",
      "source": [
        "This is a simple gradio ChatBot Using OpenAI.\n",
        "It features streaming responses.\n"
      ],
      "metadata": {
        "id": "M0ZKGY452bxd"
      }
    },
    {
      "cell_type": "markdown",
      "source": [
        "Let's install the requirements."
      ],
      "metadata": {
        "id": "x5KHMxij24WL"
      }
    },
    {
      "cell_type": "code",
      "source": [
        "pip install --q gradio openai"
      ],
      "metadata": {
        "id": "IHrUcJQXp4FZ"
      },
      "execution_count": 4,
      "outputs": []
    },
    {
      "cell_type": "markdown",
      "source": [
        "Now let's enter an OpenAI key.\n",
        "You can create one here: [page](https://platform.openai.com/account/api-keys)\n",
        "\n",
        "\n",
        "---\n",
        "\n"
      ],
      "metadata": {
        "id": "UPmbU45R3B0j"
      }
    },
    {
      "cell_type": "code",
      "source": [
        "import getpass as getpass\n",
        "\n",
        "OPENAI_API_KEY = getpass.getpass(\"Enter OpenAI API Key: \")"
      ],
      "metadata": {
        "colab": {
          "base_uri": "https://localhost:8080/"
        },
        "id": "13v2h4O3r_j1",
        "outputId": "08589dd9-8626-48a6-ca53-ccada3cb7d9b"
      },
      "execution_count": 5,
      "outputs": [
        {
          "name": "stdout",
          "output_type": "stream",
          "text": [
            "Enter OpenAI API Key: ··········\n"
          ]
        }
      ]
    },
    {
      "cell_type": "code",
      "source": [
        "import openai\n",
        "import gradio as gr\n",
        "\n",
        "openai.api_key = OPENAI_API_KEY\n",
        "\n",
        "def predict(message, history):\n",
        "    history_openai_format = []\n",
        "    for human, assistant in history:\n",
        "        history_openai_format.append({\"role\": \"user\", \"content\": human })\n",
        "        history_openai_format.append({\"role\": \"assistant\", \"content\":assistant})\n",
        "    history_openai_format.append({\"role\": \"user\", \"content\": message})\n",
        "\n",
        "    response = openai.ChatCompletion.create(\n",
        "        model='gpt-3.5-turbo',\n",
        "        messages= history_openai_format,\n",
        "        temperature=1.0,\n",
        "        stream=True\n",
        "    )\n",
        "\n",
        "    partial_message = \"\"\n",
        "    for chunk in response:\n",
        "        if len(chunk['choices'][0]['delta']) != 0:\n",
        "            partial_message = partial_message + chunk['choices'][0]['delta']['content']\n",
        "            yield partial_message\n",
        "\n",
        "gr.ChatInterface(predict).queue().launch()\n"
      ],
      "metadata": {
        "colab": {
          "base_uri": "https://localhost:8080/",
          "height": 630
        },
        "id": "Xu2WGx22q5S-",
        "outputId": "b38024aa-7deb-4db7-f5a0-c14a8d5a629c"
      },
      "execution_count": 6,
      "outputs": [
        {
          "output_type": "stream",
          "name": "stdout",
          "text": [
            "Setting queue=True in a Colab notebook requires sharing enabled. Setting `share=True` (you can turn this off by setting `share=False` in `launch()` explicitly).\n",
            "\n",
            "Colab notebook detected. To show errors in colab notebook, set debug=True in launch()\n",
            "Running on public URL: https://11611a3526a313022f.gradio.live\n",
            "\n",
            "This share link expires in 72 hours. For free permanent hosting and GPU upgrades, run `gradio deploy` from Terminal to deploy to Spaces (https://huggingface.co/spaces)\n"
          ]
        },
        {
          "output_type": "display_data",
          "data": {
            "text/plain": [
              "<IPython.core.display.HTML object>"
            ],
            "text/html": [
              "<div><iframe src=\"https://11611a3526a313022f.gradio.live\" width=\"100%\" height=\"500\" allow=\"autoplay; camera; microphone; clipboard-read; clipboard-write;\" frameborder=\"0\" allowfullscreen></iframe></div>"
            ]
          },
          "metadata": {}
        },
        {
          "output_type": "execute_result",
          "data": {
            "text/plain": []
          },
          "metadata": {},
          "execution_count": 6
        }
      ]
    }
  ]
}