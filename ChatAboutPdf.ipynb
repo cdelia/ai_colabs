{
  "cells": [
    {
      "cell_type": "markdown",
      "metadata": {
        "id": "view-in-github",
        "colab_type": "text"
      },
      "source": [
        "<a href=\"https://colab.research.google.com/github/cdelia/ai_colabs/blob/main/ChatAboutPdf.ipynb\" target=\"_parent\"><img src=\"https://colab.research.google.com/assets/colab-badge.svg\" alt=\"Open In Colab\"/></a>"
      ]
    },
    {
      "cell_type": "markdown",
      "metadata": {
        "id": "x5KHMxij24WL"
      },
      "source": [
        "# 💬📄 Chat About PFD\n",
        "### This notebook let's you ask ChatGPT4 questions regarding the PDF you upload."
      ]
    },
    {
      "cell_type": "markdown",
      "metadata": {
        "id": "Slnag5A3MIlw"
      },
      "source": [
        "(First we need to work around a compatibility problem.\n",
        "At the time this is being written chromadb doesn't work with the newer versions of Pydantic. Eventually we should be able to remove or skip this step...)"
      ]
    },
    {
      "cell_type": "code",
      "execution_count": null,
      "metadata": {
        "id": "0tu6YDe3oDhH"
      },
      "outputs": [],
      "source": [
        "!pip install -q pydantic==1.10.12"
      ]
    },
    {
      "cell_type": "markdown",
      "source": [
        "Let's install the requirements"
      ],
      "metadata": {
        "id": "DKlxIGOU3TNW"
      }
    },
    {
      "cell_type": "code",
      "execution_count": null,
      "metadata": {
        "id": "I-_ppaKbKGTw"
      },
      "outputs": [],
      "source": [
        "!pip install -q langchain openai pypdf gradio chromadb tiktoken"
      ]
    },
    {
      "cell_type": "markdown",
      "metadata": {
        "id": "UPmbU45R3B0j"
      },
      "source": [
        "Now let's enter an OpenAI key.\n",
        "You can create one here: [page](https://platform.openai.com/account/api-keys)\n",
        "\n",
        "\n",
        "---\n",
        "\n"
      ]
    },
    {
      "cell_type": "code",
      "execution_count": null,
      "metadata": {
        "id": "13v2h4O3r_j1"
      },
      "outputs": [],
      "source": [
        "import os\n",
        "import getpass as getpass\n",
        "\n",
        "os.environ['OPENAI_API_KEY'] = getpass.getpass(\"Enter OpenAI API Key: \")\n"
      ]
    },
    {
      "cell_type": "code",
      "source": [
        "import os\n",
        "from langchain.agents.agent_toolkits import (create_vectorstore_agent, VectorStoreInfo, VectorStoreToolkit)\n",
        "from langchain.document_loaders import  PyPDFLoader\n",
        "from langchain.embeddings import OpenAIEmbeddings\n",
        "from langchain.chat_models import ChatOpenAI\n",
        "from langchain.vectorstores import Chroma\n",
        "import gradio as gr\n",
        "\n",
        "apikey = os.getenv('OPENAI_API_KEY')\n",
        "llm = ChatOpenAI(model_name=\"gpt-4\", temperature=0.9)\n",
        "embeddings = OpenAIEmbeddings()\n",
        "agent_executor = None\n",
        "\n",
        "def learn_contents(file_path):\n",
        "    global agent_executor\n",
        "    loader = PyPDFLoader(file_path)\n",
        "    pages = loader.load_and_split()\n",
        "    store = Chroma.from_documents(pages, embeddings, collection_name='documentContents')\n",
        "    vectorStore_info = VectorStoreInfo(\n",
        "        name='pdf document',\n",
        "        description=\"The pdf document to search\",\n",
        "        vectorstore=store\n",
        "    )\n",
        "    toolkit = VectorStoreToolkit(vectorstore_info=vectorStore_info)\n",
        "    agent_executor = create_vectorstore_agent(\n",
        "         llm=llm,\n",
        "         toolkit=toolkit,\n",
        "         verbose=True\n",
        "    )\n",
        "\n",
        "def upload_file(files):\n",
        "    file_paths = [file.name for file in files]\n",
        "    for file_path in file_paths:\n",
        "        learn_contents(file_path)\n",
        "    return file_paths\n",
        "\n",
        "def reply_to(prompt):\n",
        "    return agent_executor.run(prompt)\n",
        "\n",
        "with gr.Blocks() as demo:\n",
        "    file_output = gr.File()\n",
        "    upload_button = gr.UploadButton(\"Click to Upload a File\", file_count=\"multiple\")\n",
        "    upload_button.upload(upload_file, upload_button, file_output)\n",
        "    prompt_box = gr.Textbox(label=\"Prompt\")\n",
        "    reply_box = gr.Textbox(label=\"Reply\")\n",
        "    reply_button = gr.Button(\"Submit\")\n",
        "    reply_button.click(fn=reply_to, inputs=prompt_box, outputs=reply_box, api_name=\"reply_to\")\n",
        "demo.launch(debug=True)\n"
      ],
      "metadata": {
        "id": "Qggk7vVcXOd3"
      },
      "execution_count": null,
      "outputs": []
    }
  ],
  "metadata": {
    "colab": {
      "provenance": [],
      "gpuType": "T4",
      "include_colab_link": true
    },
    "kernelspec": {
      "display_name": "Python 3",
      "name": "python3"
    },
    "language_info": {
      "name": "python"
    },
    "accelerator": "GPU"
  },
  "nbformat": 4,
  "nbformat_minor": 0
}