{
  "cells": [
    {
      "cell_type": "markdown",
      "metadata": {
        "id": "view-in-github",
        "colab_type": "text"
      },
      "source": [
        "<a href=\"https://colab.research.google.com/github/cdelia/ai_colabs/blob/main/chatWithPdf.ipynb\" target=\"_parent\"><img src=\"https://colab.research.google.com/assets/colab-badge.svg\" alt=\"Open In Colab\"/></a>"
      ]
    },
    {
      "cell_type": "markdown",
      "metadata": {
        "id": "x5KHMxij24WL"
      },
      "source": [
        "**This notebook lets you chat about a pdf file.**\n",
        "\n",
        "\n",
        "Let's install the requirements.\n",
        "\n",
        "First we need to work around a compatibility problem:"
      ]
    },
    {
      "cell_type": "code",
      "execution_count": null,
      "metadata": {
        "id": "0tu6YDe3oDhH"
      },
      "outputs": [],
      "source": [
        "pip install -q pydantic==1.10.12\n"
      ]
    },
    {
      "cell_type": "code",
      "execution_count": null,
      "metadata": {
        "id": "I-_ppaKbKGTw"
      },
      "outputs": [],
      "source": [
        "pip install -q langchain openai pypdf gradio chromadb tiktoken\n"
      ]
    },
    {
      "cell_type": "markdown",
      "metadata": {
        "id": "UPmbU45R3B0j"
      },
      "source": [
        "Now let's enter an OpenAI key.\n",
        "You can create one here: [page](https://platform.openai.com/account/api-keys)\n",
        "\n",
        "\n",
        "---\n",
        "\n"
      ]
    },
    {
      "cell_type": "code",
      "execution_count": 3,
      "metadata": {
        "id": "13v2h4O3r_j1",
        "outputId": "b4d6038a-7fac-4b74-e059-9a5c73cd45c9",
        "colab": {
          "base_uri": "https://localhost:8080/"
        }
      },
      "outputs": [
        {
          "name": "stdout",
          "output_type": "stream",
          "text": [
            "Enter OpenAI API Key: ··········\n"
          ]
        }
      ],
      "source": [
        "import os\n",
        "import getpass as getpass\n",
        "\n",
        "os.environ['OPENAI_API_KEY'] = getpass.getpass(\"Enter OpenAI API Key: \")\n"
      ]
    },
    {
      "cell_type": "markdown",
      "source": [
        "**Let's load a PDF from the internet**"
      ],
      "metadata": {
        "id": "EXAPFzOvzIrt"
      }
    },
    {
      "cell_type": "code",
      "execution_count": null,
      "metadata": {
        "id": "pAk4KIjeRwPc"
      },
      "outputs": [],
      "source": [
        "!wget -O document.pdf https://www.ibm.com/annualreport/assets/downloads/IBM_Annual_Report_2020.pdf"
      ]
    },
    {
      "cell_type": "code",
      "execution_count": null,
      "metadata": {
        "id": "3RZQPTvAKDg8"
      },
      "outputs": [],
      "source": [
        "import os\n",
        "from langchain.agents.agent_toolkits import (create_vectorstore_agent, VectorStoreInfo, VectorStoreToolkit)\n",
        "from langchain.document_loaders import  PyPDFLoader\n",
        "from langchain.embeddings import OpenAIEmbeddings\n",
        "from langchain.llms import OpenAI\n",
        "from langchain.vectorstores import Chroma\n",
        "import gradio as gr\n",
        "\n",
        "apikey = os.getenv('OPENAI_API_KEY')\n",
        "\n",
        "llm = OpenAI(model_name=\"gpt-4\", temperature=0.9)\n",
        "embeddings = OpenAIEmbeddings()\n",
        "\n",
        "loader = PyPDFLoader('document.pdf')\n",
        "pages = loader.load_and_split()\n",
        "store = Chroma.from_documents(pages, embeddings, collection_name='documentContents')\n",
        "vectorStore_info = VectorStoreInfo(\n",
        "      name='pdf document',\n",
        "      description=\"The pdf document to search\",\n",
        "      vectorstore=store\n",
        ")\n",
        "toolkit = VectorStoreToolkit(vectorstore_info=vectorStore_info)\n",
        "agent_executor = create_vectorstore_agent(\n",
        "      llm=llm,\n",
        "      toolkit=toolkit,\n",
        "      verbose=True\n",
        ")\n",
        "\n",
        "def answer(prompt):\n",
        "    response = agent_executor.run(prompt)\n",
        "    return response\n",
        "\n",
        "demo = gr.Interface(fn=answer, inputs=\"text\", outputs=\"text\")\n",
        "\n",
        "demo.launch()"
      ]
    }
  ],
  "metadata": {
    "colab": {
      "provenance": [],
      "include_colab_link": true
    },
    "kernelspec": {
      "display_name": "Python 3",
      "name": "python3"
    },
    "language_info": {
      "name": "python"
    }
  },
  "nbformat": 4,
  "nbformat_minor": 0
}