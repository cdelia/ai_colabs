{
  "nbformat": 4,
  "nbformat_minor": 0,
  "metadata": {
    "colab": {
      "provenance": [],
      "gpuType": "T4",
      "authorship_tag": "ABX9TyMU44E9UcnOVZoyYABzCjwE",
      "include_colab_link": true
    },
    "kernelspec": {
      "name": "python3",
      "display_name": "Python 3"
    },
    "language_info": {
      "name": "python"
    },
    "accelerator": "GPU"
  },
  "cells": [
    {
      "cell_type": "markdown",
      "metadata": {
        "id": "view-in-github",
        "colab_type": "text"
      },
      "source": [
        "<a href=\"https://colab.research.google.com/github/cdelia/ai_colabs/blob/main/HuggingStableDiffusionXlTextToImageMinimal.ipynb\" target=\"_parent\"><img src=\"https://colab.research.google.com/assets/colab-badge.svg\" alt=\"Open In Colab\"/></a>"
      ]
    },
    {
      "cell_type": "markdown",
      "source": [
        "A colab based on https://huggingface.co/docs/diffusers/api/pipelines/stable_diffusion/stable_diffusion_xl\n",
        "\n",
        "To run this make sure your runtime has a GPU, this will run fine on a T4 with the Standard Memory Profile.\n",
        "\n",
        "This is a minimal example to show the barebones necessary to generate an image from text using the Stable Diffusion XL model."
      ],
      "metadata": {
        "id": "MBbB3r4_6Eeb"
      }
    },
    {
      "cell_type": "markdown",
      "source": [
        "Let's start off by installing the python libraries.  "
      ],
      "metadata": {
        "id": "NvwOpMmZRmsu"
      }
    },
    {
      "cell_type": "code",
      "execution_count": null,
      "metadata": {
        "id": "jqSunlI149SG"
      },
      "outputs": [],
      "source": [
        "!pip install -q transformers diffusers accelerate"
      ]
    },
    {
      "cell_type": "markdown",
      "source": [
        "Construct a StableDiffusion Text to Image Pipeline"
      ],
      "metadata": {
        "id": "TMKwmU3rJYK6"
      }
    },
    {
      "cell_type": "code",
      "source": [
        "from diffusers import StableDiffusionXLPipeline\n",
        "import torch\n",
        "\n",
        "text_to_image = StableDiffusionXLPipeline.from_pretrained(\"stabilityai/stable-diffusion-xl-base-1.0\", torch_dtype=torch.float16, variant=\"fp16\", use_safetensors=True)\n",
        "text_to_image.to(\"cuda\")"
      ],
      "metadata": {
        "id": "W-al-t987Uln"
      },
      "execution_count": null,
      "outputs": []
    },
    {
      "cell_type": "markdown",
      "source": [
        "OK that was the hard part now that we have everything setup let's generate an image"
      ],
      "metadata": {
        "id": "o7kPligj8C1F"
      }
    },
    {
      "cell_type": "code",
      "source": [
        "prompt = \"Photorealistic Astronaut in a jungle, cold color palette, dramatic lighting, exquisitly detailed, dramatic lighting 8k\"\n",
        "image = text_to_image(prompt=prompt).images[0]\n",
        "image"
      ],
      "metadata": {
        "id": "h4Up7nhP8K-9"
      },
      "execution_count": null,
      "outputs": []
    }
  ]
}