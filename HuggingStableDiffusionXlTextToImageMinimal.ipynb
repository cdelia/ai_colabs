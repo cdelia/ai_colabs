{
  "nbformat": 4,
  "nbformat_minor": 0,
  "metadata": {
    "colab": {
      "provenance": [],
      "gpuType": "T4",
      "authorship_tag": "ABX9TyN+HQCyuj3tsdlM+WTXirFK",
      "include_colab_link": true
    },
    "kernelspec": {
      "name": "python3",
      "display_name": "Python 3"
    },
    "language_info": {
      "name": "python"
    },
    "accelerator": "GPU"
  },
  "cells": [
    {
      "cell_type": "markdown",
      "metadata": {
        "id": "view-in-github",
        "colab_type": "text"
      },
      "source": [
        "<a href=\"https://colab.research.google.com/github/cdelia/ai_colabs/blob/main/HuggingStableDiffusionXlTextToImageMinimal.ipynb\" target=\"_parent\"><img src=\"https://colab.research.google.com/assets/colab-badge.svg\" alt=\"Open In Colab\"/></a>"
      ]
    },
    {
      "cell_type": "markdown",
      "source": [
        "A colab based on https://huggingface.co/docs/diffusers/api/pipelines/stable_diffusion/stable_diffusion_xl\n",
        "\n",
        "This is a minimal example to show the barebones.\n",
        "It is missing some libraries that you should always use like safetensors for security and accelerate for performance."
      ],
      "metadata": {
        "id": "MBbB3r4_6Eeb"
      }
    },
    {
      "cell_type": "markdown",
      "source": [
        "Let's start off by installing the python libraries."
      ],
      "metadata": {
        "id": "NvwOpMmZRmsu"
      }
    },
    {
      "cell_type": "code",
      "execution_count": null,
      "metadata": {
        "id": "jqSunlI149SG"
      },
      "outputs": [],
      "source": [
        "!pip install -q transformers diffusers"
      ]
    },
    {
      "cell_type": "markdown",
      "source": [
        "Construct a StableDiffusion Text to Image Pipeline"
      ],
      "metadata": {
        "id": "TMKwmU3rJYK6"
      }
    },
    {
      "cell_type": "code",
      "source": [
        "from diffusers import StableDiffusionXLPipeline\n",
        "\n",
        "text_to_image = StableDiffusionXLPipeline.from_pretrained(\"stabilityai/stable-diffusion-xl-base-1.0\")"
      ],
      "metadata": {
        "id": "W-al-t987Uln"
      },
      "execution_count": null,
      "outputs": []
    },
    {
      "cell_type": "markdown",
      "source": [
        "OK that was the hard part now that we have everything setup lets generate some images"
      ],
      "metadata": {
        "id": "o7kPligj8C1F"
      }
    },
    {
      "cell_type": "code",
      "source": [
        "prompt = \"Photorealistic Astronaut in a jungle, cold color palette, dramatic lighting, exquisitly detailed, dramatic lighting 8k\"\n",
        "image = text_to_image(prompt=prompt).images[0]\n",
        "image"
      ],
      "metadata": {
        "id": "h4Up7nhP8K-9"
      },
      "execution_count": null,
      "outputs": []
    }
  ]
}