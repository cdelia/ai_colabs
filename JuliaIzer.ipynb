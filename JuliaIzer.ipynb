{
  "nbformat": 4,
  "nbformat_minor": 0,
  "metadata": {
    "colab": {
      "provenance": [],
      "authorship_tag": "ABX9TyM3ytYOV4equKLtAboZRb+6",
      "include_colab_link": true
    },
    "kernelspec": {
      "name": "python3",
      "display_name": "Python 3"
    },
    "language_info": {
      "name": "python"
    }
  },
  "cells": [
    {
      "cell_type": "markdown",
      "metadata": {
        "id": "view-in-github",
        "colab_type": "text"
      },
      "source": [
        "<a href=\"https://colab.research.google.com/github/cdelia/ai_colabs/blob/main/JuliaIzer.ipynb\" target=\"_parent\"><img src=\"https://colab.research.google.com/assets/colab-badge.svg\" alt=\"Open In Colab\"/></a>"
      ]
    },
    {
      "cell_type": "markdown",
      "source": [
        "**This is the chat conversation that created the Juliaizer.**"
      ],
      "metadata": {
        "id": "YWtTP0TlytfY"
      }
    },
    {
      "cell_type": "markdown",
      "source": [
        "https://chat.openai.com/c/5d8d8435-53f4-486a-9a41-6adfc29d13b3"
      ],
      "metadata": {
        "id": "Roept7xAyefy"
      }
    },
    {
      "cell_type": "markdown",
      "source": [
        "**Delia:**"
      ],
      "metadata": {
        "id": "KWTbD2AV8K4W"
      }
    },
    {
      "cell_type": "markdown",
      "source": [
        "Please write a javascript program that can be run in the console for any web page.\n",
        "It should make the page more accessible for someone that has difficulty reading due to a traumatic brain injury.\n",
        "It should:\n",
        "- break paragraphs up into lines of up to four words\n",
        "- ensure there is always a blank line between any lines of text\n",
        "- allow the user to select any paragraph to be spoken out loud\n",
        "- pause, resume or cancel the read out.\n",
        "- draw a box around each paragraph in a way that it will be visible against any background\n",
        "- listen for updates on the page and make sure the changes are applied to any text that is added to the page\n",
        "- apply the changes to content that is already on the page\n",
        "- the solution must work for all text on the page that is longer than 4 words not just the text in paragraph tags\n",
        "- make it obvious to the user how to control the speech to text\n",
        "Make it as robust as possible so that it will work on many different web pages, and avoid namespace collisions"
      ],
      "metadata": {
        "id": "zSKEF5Uby1iT"
      }
    },
    {
      "cell_type": "markdown",
      "source": [
        "**Chat Gtp4:**"
      ],
      "metadata": {
        "id": "tiZ8v8QEy9bk"
      }
    },
    {
      "cell_type": "markdown",
      "source": [
        "Below is a script that you can add to your webpage to make it more accessible.\n",
        "\n",
        "The script will:\n",
        "\n",
        "Break all text content into lines of up to four words.\n",
        "Insert blank lines between any lines of text.\n",
        "Highlight text blocks and make them selectable for speech synthesis.\n",
        "Provide pause, resume and cancel options for the speech synthesis.\n",
        "Dynamically apply these transformations to new content added to the page.\n",
        "Note that the quality of text-to-speech and the ability to use it vary by browser.  \n",
        "\n",
        "```\n",
        "// Anonymous function to avoid namespace collisions\n",
        "(function () {\n",
        "    let synth = window.speechSynthesis;\n",
        "    let utterance;\n",
        "    const commands = document.createElement('div');\n",
        "\n",
        "    // Function to chunk text into groups of 4 words\n",
        "    function chunkText(text) {\n",
        "        return text.split(/\\s+/).reduce((resultArray, item, index) => {\n",
        "            const chunkIndex = Math.floor(index/4);\n",
        "            if(!resultArray[chunkIndex]) {\n",
        "                resultArray[chunkIndex] = [];\n",
        "            }\n",
        "            resultArray[chunkIndex].push(item);\n",
        "            return resultArray;\n",
        "        }, []);\n",
        "    }\n",
        "\n",
        "    // Function to restructure page text for better readability\n",
        "    function restructurePageText(node) {\n",
        "        if (node.hasChildNodes()) {\n",
        "            node.childNodes.forEach(restructurePageText);\n",
        "        } else if (node.nodeType === Text.TEXT_NODE && node.textContent.trim().split(/\\s+/).length > 4) {\n",
        "            let chunks = chunkText(node.textContent);\n",
        "            let newNode = document.createElement('p');\n",
        "            newNode.style.border = '1px solid #000';\n",
        "            newNode.style.padding = '5px';\n",
        "            newNode.style.background = 'rgba(0, 0, 0, 0.1)';\n",
        "            newNode.addEventListener('click', function () {\n",
        "                readOutLoud(newNode.textContent);\n",
        "            });\n",
        "            chunks.forEach(chunk => {\n",
        "                let line = document.createElement('span');\n",
        "                line.textContent = chunk.join(' ') + '\\n\\n';\n",
        "                newNode.appendChild(line);\n",
        "            });\n",
        "            node.replaceWith(newNode);\n",
        "        }\n",
        "    }\n",
        "\n",
        "    // Function to start reading text\n",
        "    function readOutLoud(message) {\n",
        "        utterance = new SpeechSynthesisUtterance(message);\n",
        "        synth.speak(utterance);\n",
        "        commands.style.display = 'block';\n",
        "    }\n",
        "\n",
        "    // Observe the document, listen for DOM changes\n",
        "    const observer = new MutationObserver((mutations) => {\n",
        "        mutations.forEach((mutation) => {\n",
        "            mutation.addedNodes.forEach(restructurePageText);\n",
        "        });\n",
        "    });\n",
        "    observer.observe(document.body, { childList: true, subtree: true });\n",
        "\n",
        "    // UI for controlling the speech\n",
        "    commands.innerHTML = `\n",
        "        <button id=\"pause\">Pause</button>\n",
        "        <button id=\"resume\">Resume</button>\n",
        "        <button id=\"cancel\">Cancel</button>\n",
        "    `;\n",
        "    commands.style.display = 'none';\n",
        "    commands.style.position = 'fixed';\n",
        "    commands.style.bottom = '10px';\n",
        "    commands.style.right = '10px';\n",
        "    commands.style.background = 'white';\n",
        "    commands.style.padding = '10px';\n",
        "    document.body.appendChild(commands);\n",
        "\n",
        "    document.getElementById('pause').addEventListener('click', function() { synth.pause(); });\n",
        "    document.getElementById('resume').addEventListener('click', function() { synth.resume(); });\n",
        "    document.getElementById('cancel').addEventListener('click', function() { synth.cancel(); commands.style.display = 'none'; });\n",
        "\n",
        "    // Initial page structure\n",
        "    restructurePageText(document.body);\n",
        "})();\n",
        "```\n",
        "\n",
        "Just paste this JavaScript into the console for any webpage, and it will reformat the text on that page according to your specifications. Click on any paragraph to have it read aloud, and use the pause, resume, and cancel buttons"
      ],
      "metadata": {
        "id": "UtX2PhNjzNNN"
      }
    },
    {
      "cell_type": "markdown",
      "source": [
        "**Delia**"
      ],
      "metadata": {
        "id": "TAK24KGD12SB"
      }
    },
    {
      "cell_type": "markdown",
      "source": [
        "the script did not 1. Break all text content into lines of up to four words.\n",
        "2. Insert blank lines between any lines of text.\n",
        "please fix that while preserving the other behavior in the script"
      ],
      "metadata": {
        "id": "AnG27f1I14fZ"
      }
    },
    {
      "cell_type": "markdown",
      "source": [
        "**Chat Gtp4:**"
      ],
      "metadata": {
        "id": "PXiTX1pV2Hkp"
      }
    },
    {
      "cell_type": "code",
      "source": [],
      "metadata": {
        "id": "Mtpx9ChG7DcK"
      },
      "execution_count": null,
      "outputs": []
    },
    {
      "cell_type": "markdown",
      "source": [
        "You're right. My previous example script attempted to format the text using newline characters, which doesn't work well in HTML. Here's a revised script. This version inserts each four-word chunk into its own `p` element to ensure there is a blank line between each.\n",
        "\n",
        "```javascript\n",
        "// Anonymous function to avoid namespace collisions\n",
        "(function () {\n",
        "    let synth = window.speechSynthesis;\n",
        "    let utterance;\n",
        "    const commands = document.createElement('div');\n",
        "\n",
        "    // Function to chunk text into groups of 4 words\n",
        "    function chunkText(text) {\n",
        "        return text.split(/\\s+/).reduce((resultArray, item, index) => {\n",
        "            const chunkIndex = Math.floor(index/4);\n",
        "            if(!resultArray[chunkIndex]) {\n",
        "                resultArray[chunkIndex] = [];\n",
        "            }\n",
        "            resultArray[chunkIndex].push(item);\n",
        "            return resultArray;\n",
        "        }, []);\n",
        "    }\n",
        "\n",
        "    // Function to restructure page text for better readability\n",
        "    function restructurePageText(node) {\n",
        "        if (node.hasChildNodes()) {\n",
        "            node.childNodes.forEach(restructurePageText);\n",
        "        } else if (node.nodeType === Text.TEXT_NODE && node.textContent.trim().split(/\\s+/).length > 4) {\n",
        "            let chunks = chunkText(node.textContent);\n",
        "            let newContainer = document.createElement('div');\n",
        "            newContainer.style.border = '1px solid #000';\n",
        "            newContainer.style.padding = '5px';\n",
        "            newContainer.style.background = 'rgba(0, 0, 0, 0.1)';\n",
        "            newContainer.addEventListener('click', function () {\n",
        "                readOutLoud(newContainer.textContent);\n",
        "            });\n",
        "            chunks.forEach(chunk => {\n",
        "                let newNode = document.createElement('p');\n",
        "                newNode.textContent = chunk.join(' ');\n",
        "                newContainer.appendChild(newNode);\n",
        "            });\n",
        "            node.replaceWith(newContainer);\n",
        "        }\n",
        "    }\n",
        "\n",
        "    // Function to start reading text\n",
        "    function readOutLoud(message) {\n",
        "        utterance = new SpeechSynthesisUtterance(message);\n",
        "        synth.speak(utterance);\n",
        "        commands.style.display = 'block';\n",
        "    }\n",
        "\n",
        "    // Observe the document, listen for DOM changes\n",
        "    const observer = new MutationObserver((mutations) => {\n",
        "        mutations.forEach((mutation) => {\n",
        "            mutation.addedNodes.forEach(restructurePageText);\n",
        "        });\n",
        "    });\n",
        "    observer.observe(document.body, { childList: true, subtree: true });\n",
        "\n",
        "    // UI for controlling the speech\n",
        "    commands.innerHTML = `\n",
        "        <button id=\"pause\">Pause</button>\n",
        "        <button id=\"resume\">Resume</button>\n",
        "        <button id=\"cancel\">Cancel</button>\n",
        "    `;\n",
        "    commands.style.display = 'none';\n",
        "    commands.style.position = 'fixed';\n",
        "    commands.style.bottom = '10px';\n",
        "    commands.style.right = '10px';\n",
        "    commands.style.background = 'white';\n",
        "    commands.style.padding = '10px';\n",
        "    document.body.appendChild(commands);\n",
        "\n",
        "    document.getElementById('pause').addEventListener('click', function() { synth.pause(); });\n",
        "    document.getElementById('resume').addEventListener('click', function() { synth.resume(); });\n",
        "    document.getElementById('cancel').addEventListener('click', function() { synth.cancel(); commands.style.display = 'none'; });\n",
        "\n",
        "    // Initial page structure\n",
        "    restructurePageText(document.body);\n",
        "})();\n",
        "```\n",
        "\n",
        "Please paste the above JavaScript code into the console of your web browser when you're viewing a webpage, and it should reformat the text according to the new rules."
      ],
      "metadata": {
        "id": "GJcVz5fb7FL0"
      }
    },
    {
      "cell_type": "markdown",
      "source": [
        "**Delia:**"
      ],
      "metadata": {
        "id": "C5gdiINe7Vr0"
      }
    },
    {
      "cell_type": "markdown",
      "source": [
        "Please make that into a bookmarklet"
      ],
      "metadata": {
        "id": "l6F6OAkV7r8_"
      }
    },
    {
      "cell_type": "markdown",
      "source": [
        "**Chat GPT4:**"
      ],
      "metadata": {
        "id": "ljONIk3e8gM6"
      }
    },
    {
      "cell_type": "markdown",
      "source": [
        "Sure, creating a bookmarklet is essentially taking JavaScript code and prepending it with `javascript:`. However, due to the size of your script and the fact that it contains multiple lines, it's best to minify it to avoid issues. Here's your minified script converted into a bookmarklet:\n",
        "\n",
        "```javascript\n",
        "javascript:(function(){let a=window.speechSynthesis,b,c,d=document.createElement('div');function e(l){return l.split(/\\s+/).reduce((m,n,o)=>{const p=Math.floor(o/4);if(!m[p]){m[p]=[]}m[p].push(n);return m},[])}function f(l){if(l.hasChildNodes()){l.childNodes.forEach(f)}else if(l.nodeType===Text.TEXT_NODE&&l.textContent.trim().split(/\\s+/).length>4){let m=e(l.textContent),n=document.createElement('div');n.style.border='1px solid #000';n.style.padding='5px';n.style.background='rgba(0,0,0,0.1)';n.addEventListener('click',function(){g(n.textContent)});m.forEach(o=>{let p=document.createElement('p');p.textContent=o.join(' ');n.appendChild(p)});l.replaceWith(n)}}function g(l){b=new SpeechSynthesisUtterance(l);a.speak(b);d.style.display='block'}const h=new MutationObserver(i=>{i.forEach(j=>{j.addedNodes.forEach(f)})});h.observe(document.body,{childList:true,subtree:true});d.innerHTML=`<button id=\"pause\">Pause</button><button id=\"resume\">Resume</button><button id=\"cancel\">Cancel</button>`;d.style.display='none';d.style.position='fixed';d.style.bottom='10px';d.style.right='10px';d.style.background='white';d.style.padding='10px';document.body.appendChild(d);document.getElementById('pause').addEventListener('click',function(){a.pause()});document.getElementById('resume').addEventListener('click',function(){a.resume()});document.getElementById('cancel').addEventListener('click',function(){a.cancel();d.style.display='none'});f(document.body)})()\n",
        "```\n",
        "\n",
        "To use this bookmarklet:\n",
        "\n",
        "1. Right-click the bookmarks bar in your browser and choose `Add Page...` or `Add Bookmark...`.\n",
        "2. Type a name for the bookmarklet in the `Name` field, such as \"Accessibility Script\".\n",
        "3. Paste the above bookmarklet code into the `URL` field.\n",
        "4. Click `Save` or `Add`.\n",
        "\n",
        "Now, you can click this new bookmark whenever you want to make a page more accessible as per your defined rules."
      ],
      "metadata": {
        "id": "sqVE17PF70hC"
      }
    }
  ]
}